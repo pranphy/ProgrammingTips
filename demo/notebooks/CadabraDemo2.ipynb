{
 "cells": [
  {
   "cell_type": "markdown",
   "metadata": {},
   "source": [
    "In polar coordiantes, calculate the Riemann curvature tensor of the sphere of unit radius whose metric is $g_{\\theta\\theta} = r^{2}, g_{\\phi\\phi} = r^{2}\\sin^{2}\\theta, g_{\\theta\\phi} = 0$.\n"
   ]
  },
  {
   "cell_type": "code",
   "execution_count": 1,
   "metadata": {},
   "outputs": [
    {
     "data": {
      "text/markdown": [
       "${}\\text{Attached property Coordinate to~}\\left[r,~ \\phi,~ z\\right].$"
      ]
     },
     "execution_count": 1,
     "metadata": {},
     "output_type": "execute_result"
    },
    {
     "data": {
      "text/markdown": [
       "${}\\text{Attached property Indices(position=fixed) to~}\\left[\\alpha,~ \\beta,~ \\mu,~ \\nu,~ \\rho,~ \\sigma,~ \\lambda,~ \\kappa,~ \\chi,~ \\gamma\\right].$"
      ]
     },
     "execution_count": 1,
     "metadata": {},
     "output_type": "execute_result"
    }
   ],
   "source": [
    "{r,\\phi,z}::Coordinate;\n",
    "{\\alpha,\\beta, \\mu,\\nu,\\rho,\\sigma,\\lambda,\\kappa,\\chi,\\gamma}::Indices(values={r,\\phi,z},position=fixed); \n",
    "\n",
    "\\partial{#}::PartialDerivative.\n",
    "g_{\\mu \\nu}::Metric.\n",
    "g^{\\mu \\nu}::InverseMetric.\n",
    "R_{\\mu \\nu \\rho \\sigma}::RiemannTensor.\n",
    "R_{\\mu \\nu}::Symmetric."
   ]
  },
  {
   "cell_type": "code",
   "execution_count": 2,
   "metadata": {},
   "outputs": [
    {
     "data": {
      "text/markdown": [
       "${}\\left[g_{r r} = 1,~ g_{\\phi \\phi} = {r}^{2},~ g_{z z} = 1\\right]$"
      ]
     },
     "execution_count": 2,
     "metadata": {},
     "output_type": "execute_result"
    }
   ],
   "source": [
    "metric:= {\n",
    "    g_{r r} = 1,\n",
    "    g_{\\phi \\phi} = r**2,\n",
    "    g_{z z} = 1\n",
    "};"
   ]
  },
  {
   "cell_type": "code",
   "execution_count": 3,
   "metadata": {},
   "outputs": [
    {
     "data": {
      "text/markdown": [
       "${}\\left[g_{r r} = 1,~ g_{\\phi \\phi} = {r}^{2},~ g_{z z} = 1,~ g^{r r} = 1,~ g^{\\phi \\phi} = {r}^{-2},~ g^{z z} = 1\\right]$"
      ]
     },
     "execution_count": 3,
     "metadata": {},
     "output_type": "execute_result"
    }
   ],
   "source": [
    "complete(metric,$g^{\\mu\\nu}$);"
   ]
  },
  {
   "cell_type": "code",
   "execution_count": 4,
   "metadata": {},
   "outputs": [
    {
     "data": {
      "text/markdown": [
       "${}k_{\\mu \\nu \\alpha \\rho} = \\partial_{\\mu \\rho}{g_{\\nu \\alpha}}$"
      ]
     },
     "execution_count": 4,
     "metadata": {},
     "output_type": "execute_result"
    },
    {
     "data": {
      "text/markdown": [
       "${}k_{\\mu \\nu \\alpha \\rho} = \\square{}_{\\alpha}{}_{\\nu}{}_{\\mu}{}_{\\rho}\\left\\{\\begin{aligned}\\square{}_{\\phi}{}_{\\phi}{}_{r}{}_{r}= & 2\\\\[-.5ex]\n",
       "\\end{aligned}\\right.\n",
       "$"
      ]
     },
     "execution_count": 4,
     "metadata": {},
     "output_type": "execute_result"
    }
   ],
   "source": [
    "ex:= k_{\\mu \\nu \\alpha \\rho} = \\partial_{\\mu \\rho}{g_{\\nu \\alpha}};\n",
    "evaluate(ex,metric,rhsonly=True);"
   ]
  },
  {
   "cell_type": "code",
   "execution_count": 5,
   "metadata": {},
   "outputs": [
    {
     "data": {
      "text/markdown": [
       "${}\\Gamma^{\\mu}\\,_{\\nu \\rho} = \\frac{1}{2}g^{\\mu \\sigma} \\left(\\partial_{\\rho}{g_{\\nu \\sigma}}+\\partial_{\\nu}{g_{\\rho \\sigma}}-\\partial_{\\sigma}{g_{\\nu \\rho}}\\right)$"
      ]
     },
     "execution_count": 5,
     "metadata": {},
     "output_type": "execute_result"
    },
    {
     "data": {
      "text/markdown": [
       "${}\\Gamma^{\\mu}\\,_{\\nu \\rho} = \\square{}_{\\nu}{}_{\\rho}{}^{\\mu}\\left\\{\\begin{aligned}\\square{}_{\\phi}{}_{r}{}^{\\phi}= & {r}^{-1}\\\\[-.5ex]\n",
       "\\square{}_{r}{}_{\\phi}{}^{\\phi}= & {r}^{-1}\\\\[-.5ex]\n",
       "\\square{}_{\\phi}{}_{\\phi}{}^{r}= & -r\\\\[-.5ex]\n",
       "\\end{aligned}\\right.\n",
       "$"
      ]
     },
     "execution_count": 5,
     "metadata": {},
     "output_type": "execute_result"
    }
   ],
   "source": [
    "# Define Christoffel symbols\n",
    "cffl_symb := \\Gamma^{\\mu}_{\\nu\\rho} = 1/2 g^{\\mu\\sigma} ( \n",
    "                \\partial_{\\rho}{g_{\\nu\\sigma}} +\n",
    "                \\partial_{\\nu}{g_{\\rho\\sigma}} -\n",
    "                \\partial_{\\sigma}{g_{\\nu\\rho}});\n",
    "\n",
    "# Evaluate the christoeffl symbols for this metric\n",
    "evaluate(cffl_symb,metric, rhsonly=True);"
   ]
  },
  {
   "cell_type": "code",
   "execution_count": 6,
   "metadata": {},
   "outputs": [
    {
     "data": {
      "text/markdown": [
       "${}R^{\\alpha}\\,_{\\beta \\mu \\nu} = \\Gamma^{\\alpha}\\,_{\\sigma \\mu} \\Gamma^{\\sigma}\\,_{\\beta \\nu}-\\Gamma^{\\alpha}\\,_{\\sigma \\nu} \\Gamma^{\\sigma}\\,_{\\beta \\mu}-\\partial_{\\nu}{\\Gamma^{\\alpha}\\,_{\\beta \\mu}}+\\partial_{\\mu}{\\Gamma^{\\alpha}\\,_{\\beta \\nu}}$"
      ]
     },
     "execution_count": 6,
     "metadata": {},
     "output_type": "execute_result"
    },
    {
     "data": {
      "text/markdown": [
       "${}R^{\\alpha}\\,_{\\beta \\mu \\nu} = 0$"
      ]
     },
     "execution_count": 6,
     "metadata": {},
     "output_type": "execute_result"
    }
   ],
   "source": [
    "# Define the Riemann tensor\n",
    "rieman_tensor := R^{\\alpha}_{\\beta \\mu \\nu} =\n",
    "             \\Gamma^{\\alpha}_{\\sigma \\mu}*\\Gamma^{\\sigma}_{\\beta \\nu}\n",
    "            -\\Gamma^{\\alpha}_{\\sigma \\nu}*\\Gamma^{\\sigma}_{\\beta \\mu}\n",
    "            -\\partial_{\\nu}{\\Gamma^{\\alpha}_{\\beta \\mu}}\n",
    "            +\\partial_{\\mu}{\\Gamma^{\\alpha}_{\\beta \\nu}};\n",
    "            \n",
    "_ = substitute(rieman_tensor,cffl_symb)\n",
    "rieman_tensor_up = evaluate(_,metric,rhsonly=True);"
   ]
  },
  {
   "cell_type": "code",
   "execution_count": 7,
   "metadata": {},
   "outputs": [
    {
     "data": {
      "text/markdown": [
       "${}R_{\\alpha \\beta \\mu \\nu} = g_{\\alpha \\sigma} R^{\\sigma}\\,_{\\beta \\mu \\nu}$"
      ]
     },
     "execution_count": 7,
     "metadata": {},
     "output_type": "execute_result"
    },
    {
     "data": {
      "text/markdown": [
       "${}R_{\\alpha \\beta \\mu \\nu} = 0$"
      ]
     },
     "execution_count": 7,
     "metadata": {},
     "output_type": "execute_result"
    }
   ],
   "source": [
    "rieman_low_def := R_{\\alpha \\beta \\mu \\nu} = g_{\\alpha \\sigma}*R^{\\sigma}_{\\beta \\mu \\nu};\n",
    "_ = substitute(rieman_low_def,rieman_tensor_up)\n",
    "rieman_tensor_low = evaluate(_,metric,rhsonly=True);"
   ]
  },
  {
   "cell_type": "markdown",
   "metadata": {},
   "source": [
    "This is the required Riemann tensor."
   ]
  },
  {
   "cell_type": "code",
   "execution_count": 8,
   "metadata": {},
   "outputs": [
    {
     "data": {
      "text/markdown": [
       "${}R_{\\mu \\lambda} = g^{\\alpha \\rho} R_{\\rho \\mu \\alpha \\lambda}$"
      ]
     },
     "execution_count": 8,
     "metadata": {},
     "output_type": "execute_result"
    },
    {
     "data": {
      "text/markdown": [
       "${}R_{\\mu \\lambda} = \\square{}_{\\mu}{}_{\\lambda}\\left\\{\\begin{aligned}\\square{}_{\\phi}{}_{\\phi}= & \\frac{1}{2}\\sin\\left(2\\theta\\right) {\\left(\\tan{\\theta}\\right)}^{-1}-\\cos\\left(2\\theta\\right)\\\\[-.5ex]\n",
       "\\square{}_{\\theta}{}_{\\theta}= & 1\\\\[-.5ex]\n",
       "\\end{aligned}\\right.\n",
       "$"
      ]
     },
     "execution_count": 8,
     "metadata": {},
     "output_type": "execute_result"
    }
   ],
   "source": [
    "ricci_def := R_{\\mu \\lambda} = g^{\\alpha \\rho}*R_{\\rho \\mu \\alpha \\lambda};\n",
    "_ = substitute(ricci_def,rieman_tensor_low)\n",
    "ricci = evaluate(_,metric,rhsonly=True);"
   ]
  },
  {
   "cell_type": "code",
   "execution_count": 9,
   "metadata": {},
   "outputs": [
    {
     "data": {
      "text/markdown": [
       "${}R = g^{\\mu \\nu} R_{\\mu \\nu}$"
      ]
     },
     "execution_count": 9,
     "metadata": {},
     "output_type": "execute_result"
    },
    {
     "data": {
      "text/markdown": [
       "${}R = 2$"
      ]
     },
     "execution_count": 9,
     "metadata": {},
     "output_type": "execute_result"
    }
   ],
   "source": [
    "ricci_scalar_def := R = g^{\\mu \\nu}*R_{\\mu \\nu};\n",
    "_ =substitute(ricci_scalar_def,ricci)\n",
    "ricci_scalar = evaluate(_,metric,rhsonly=True);"
   ]
  },
  {
   "cell_type": "code",
   "execution_count": 10,
   "metadata": {},
   "outputs": [
    {
     "data": {
      "text/markdown": [
       "${}G_{\\mu \\nu} = R_{\\mu \\nu} - \\frac{1}{4}g_{\\mu \\nu} R$"
      ]
     },
     "execution_count": 10,
     "metadata": {},
     "output_type": "execute_result"
    },
    {
     "data": {
      "text/markdown": [
       "${}G_{\\mu \\nu} = \\square{}_{\\mu}{}_{\\nu}\\left\\{\\begin{aligned}\\square{}_{\\phi}{}_{\\phi}= & \\frac{1}{2}{\\left(\\sin{\\theta}\\right)}^{2}\\\\[-.5ex]\n",
       "\\square{}_{\\theta}{}_{\\theta}= & \\frac{1}{2}\\\\[-.5ex]\n",
       "\\end{aligned}\\right.\n",
       "$"
      ]
     },
     "execution_count": 10,
     "metadata": {},
     "output_type": "execute_result"
    }
   ],
   "source": [
    "eins_tensor_def := G_{\\mu \\nu} = R_{\\mu \\nu} - 1/4* g_{\\mu \\nu}*R;\n",
    "_ = substitute(eins_tensor_def,ricci_def)\n",
    "_ = substitute(_,ricci_scalar)\n",
    "eins_tensor_def = evaluate(_,metric,rhsonly=True);"
   ]
  },
  {
   "cell_type": "markdown",
   "metadata": {},
   "source": [
    "This is the required Einstein tensor."
   ]
  }
 ],
 "metadata": {
  "kernelspec": {
   "display_name": "Python 3.8",
   "language": "python",
   "name": "python3"
  },
  "language_info": {
   "codemirror_mode": {
    "name": "ipython",
    "version": 3
   },
   "file_extension": ".py",
   "mimetype": "text/x-python",
   "name": "python",
   "nbconvert_exporter": "python",
   "pygments_lexer": "ipython3",
   "version": "3.8.0"
  }
 },
 "nbformat": 4,
 "nbformat_minor": 4
}
