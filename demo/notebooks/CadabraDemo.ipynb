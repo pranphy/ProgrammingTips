{
 "cells": [
  {
   "cell_type": "markdown",
   "metadata": {},
   "source": [
    "One way of describing the metric of a flat, homogenous, expanding universe is:\n",
    "\\begin{align}\n",
    "    \\begin{pmatrix}\n",
    "        -1 & 0 & 0 & 0 \\\\\n",
    "        0 & a(t)^2 & 0 & 0 \\\\\n",
    "        0 & 0 & a(t)^2 & 0 \\\\\n",
    "        0 & 0 & 0 & a(t)^2 \\\\\n",
    "    \\end{pmatrix}\n",
    "\\end{align}\n",
    "where $a(t)$ is a function of time only, and the coordinates are\n",
    "\\begin{align*}\n",
    "    x^{\\mu} = \\begin{pmatrix}t\\\\x\\\\y\\\\z\\end{pmatrix}\n",
    "\\end{align*}\n",
    "\n",
    "- Compute all non vanishing terms of the Riemann Tensor.\n",
    "- Compute all Non-vanishing terms of the Ricci Tensor.\n",
    "- Compute the Einstein Tensor\n",
    "\n"
   ]
  },
  {
   "cell_type": "code",
   "execution_count": 1,
   "metadata": {},
   "outputs": [
    {
     "data": {
      "text/markdown": [
       "${}\\text{Attached property Coordinate to~}\\left[t,~ x,~ y,~ z\\right].$"
      ]
     },
     "execution_count": 1,
     "metadata": {},
     "output_type": "execute_result"
    },
    {
     "data": {
      "text/markdown": [
       "${}\\text{Attached property Indices(position=fixed) to~}\\left[\\alpha,~ \\beta,~ \\mu,~ \\nu,~ \\rho,~ \\sigma,~ \\lambda,~ \\kappa,~ \\chi,~ \\gamma\\right].$"
      ]
     },
     "execution_count": 1,
     "metadata": {},
     "output_type": "execute_result"
    }
   ],
   "source": [
    "{t,x,y,z}::Coordinate;\n",
    "{\\alpha,\\beta, \\mu,\\nu,\\rho,\\sigma,\\lambda,\\kappa,\\chi,\\gamma}::Indices(values={t,x,y,z},position=fixed); \n",
    "\n",
    "\\partial{#}::PartialDerivative.\n",
    "g_{\\mu \\nu}::Metric.\n",
    "g^{\\mu \\nu}::InverseMetric.\n",
    "R_{\\mu \\nu \\rho \\sigma}::RiemannTensor.\n",
    "H_{\\mu \\nu}::Symmetric."
   ]
  },
  {
   "cell_type": "code",
   "execution_count": 2,
   "metadata": {},
   "outputs": [],
   "source": [
    "# Declaring a as a function of t\n",
    "a::Depends(t)"
   ]
  },
  {
   "cell_type": "code",
   "execution_count": 3,
   "metadata": {},
   "outputs": [
    {
     "data": {
      "text/markdown": [
       "${}\\left[g_{t t} = -1,~ g_{x x} = {a}^{2},~ g_{y y} = {a}^{2},~ g_{z z} = {a}^{2}\\right]$"
      ]
     },
     "execution_count": 3,
     "metadata": {},
     "output_type": "execute_result"
    }
   ],
   "source": [
    "metric:= {\n",
    "    g_{t t} = -1,\n",
    "    g_{x x} = a**2,\n",
    "    g_{y y} = a**2,\n",
    "    g_{z z} = a**2\n",
    "};"
   ]
  },
  {
   "cell_type": "code",
   "execution_count": 4,
   "metadata": {},
   "outputs": [
    {
     "data": {
      "text/markdown": [
       "${}\\left[g_{t t} = -1,~ g_{x x} = {a}^{2},~ g_{y y} = {a}^{2},~ g_{z z} = {a}^{2},~ g^{t t} = -1,~ g^{x x} = {a}^{-2},~ g^{y y} = {a}^{-2},~ g^{z z} = {a}^{-2}\\right]$"
      ]
     },
     "execution_count": 4,
     "metadata": {},
     "output_type": "execute_result"
    }
   ],
   "source": [
    "complete(metric,$g^{\\mu\\nu}$);"
   ]
  },
  {
   "cell_type": "code",
   "execution_count": 5,
   "metadata": {},
   "outputs": [
    {
     "data": {
      "text/markdown": [
       "${}k_{\\mu \\nu \\alpha \\rho} = \\partial_{\\mu \\rho}{g_{\\nu \\alpha}}$"
      ]
     },
     "execution_count": 5,
     "metadata": {},
     "output_type": "execute_result"
    }
   ],
   "source": [
    "ex:= k_{\\mu \\nu \\alpha \\rho} = \\partial_{\\mu \\rho}{g_{\\nu \\alpha}};"
   ]
  },
  {
   "cell_type": "code",
   "execution_count": 6,
   "metadata": {},
   "outputs": [
    {
     "data": {
      "text/markdown": [
       "${}k_{\\mu \\nu \\alpha \\rho} = \\square{}_{\\alpha}{}_{\\nu}{}_{\\mu}{}_{\\rho}\\left\\{\\begin{aligned}\\square{}_{z}{}_{z}{}_{t}{}_{t}& = 2a \\partial_{t t}{a}+2{\\left(\\partial_{t}{a}\\right)}^{2}\\\\[-.5ex]\n",
       "\\square{}_{y}{}_{y}{}_{t}{}_{t}& = 2a \\partial_{t t}{a}+2{\\left(\\partial_{t}{a}\\right)}^{2}\\\\[-.5ex]\n",
       "\\square{}_{x}{}_{x}{}_{t}{}_{t}& = 2a \\partial_{t t}{a}+2{\\left(\\partial_{t}{a}\\right)}^{2}\\\\[-.5ex]\n",
       "\\end{aligned}\\right.\n",
       "$"
      ]
     },
     "execution_count": 6,
     "metadata": {},
     "output_type": "execute_result"
    }
   ],
   "source": [
    "evaluate(ex,metric,rhsonly=True);"
   ]
  },
  {
   "cell_type": "code",
   "execution_count": 7,
   "metadata": {},
   "outputs": [
    {
     "data": {
      "text/markdown": [
       "${}R_{\\alpha \\beta \\mu \\nu} = \\frac{1}{2}\\partial_{\\beta \\mu}{g_{\\alpha \\nu}} - \\frac{1}{2}\\partial_{\\beta \\nu}{g_{\\alpha \\mu}}+\\frac{1}{2}\\partial_{\\alpha \\nu}{g_{\\beta \\mu}} - \\frac{1}{2}\\partial_{\\alpha \\mu}{g_{\\beta \\nu}}$"
      ]
     },
     "execution_count": 7,
     "metadata": {},
     "output_type": "execute_result"
    }
   ],
   "source": [
    "RieLow := R_{\\alpha \\beta \\mu \\nu} = 1/2 *(\n",
    "    \\partial_{\\beta \\mu}{g_{\\alpha \\nu}} -\n",
    "    \\partial_{\\beta \\nu}{g_{\\alpha \\mu}} +\n",
    "    \\partial_{\\alpha \\nu}{g_{\\beta \\mu}} -\n",
    "    \\partial_{\\alpha \\mu}{g_{\\beta \\nu}} )};"
   ]
  },
  {
   "cell_type": "markdown",
   "metadata": {},
   "source": [
    "Now calculate the riemann tensor"
   ]
  },
  {
   "cell_type": "code",
   "execution_count": 8,
   "metadata": {},
   "outputs": [
    {
     "data": {
      "text/markdown": [
       "${}RU^{\\lambda}\\,_{\\beta \\mu \\nu} = g^{\\lambda \\alpha} R_{\\alpha \\beta \\mu \\nu}$"
      ]
     },
     "execution_count": 8,
     "metadata": {},
     "output_type": "execute_result"
    },
    {
     "data": {
      "text/markdown": [
       "${}RU^{\\lambda}\\,_{\\beta \\mu \\nu} = g^{\\lambda \\alpha} \\left(\\frac{1}{2}\\partial_{\\beta \\mu}{g_{\\alpha \\nu}} - \\frac{1}{2}\\partial_{\\beta \\nu}{g_{\\alpha \\mu}}+\\frac{1}{2}\\partial_{\\alpha \\nu}{g_{\\beta \\mu}} - \\frac{1}{2}\\partial_{\\alpha \\mu}{g_{\\beta \\nu}}\\right)$"
      ]
     },
     "execution_count": 8,
     "metadata": {},
     "output_type": "execute_result"
    }
   ],
   "source": [
    "RUPDEF := RU^{\\lambda}_{\\beta \\mu \\nu} = g^{\\lambda \\alpha}*R_{\\alpha \\beta \\mu \\nu};\n",
    "RUP = substitute(RUPDEF,RieLow);"
   ]
  },
  {
   "cell_type": "code",
   "execution_count": 9,
   "metadata": {},
   "outputs": [
    {
     "data": {
      "text/markdown": [
       "${}RU^{\\lambda}\\,_{\\beta \\mu \\nu} = \\square{}_{\\nu}{}_{\\beta}{}_{\\mu}{}^{\\lambda}\\left\\{\\begin{aligned}\\square{}_{z}{}_{t}{}_{t}{}^{z}& = \\left(a \\partial_{t t}{a}+{\\left(\\partial_{t}{a}\\right)}^{2}\\right) {a}^{-2}\\\\[-.5ex]\n",
       "\\square{}_{y}{}_{t}{}_{t}{}^{y}& = \\left(a \\partial_{t t}{a}+{\\left(\\partial_{t}{a}\\right)}^{2}\\right) {a}^{-2}\\\\[-.5ex]\n",
       "\\square{}_{x}{}_{t}{}_{t}{}^{x}& = \\left(a \\partial_{t t}{a}+{\\left(\\partial_{t}{a}\\right)}^{2}\\right) {a}^{-2}\\\\[-.5ex]\n",
       "\\square{}_{t}{}_{t}{}_{z}{}^{z}& = -\\left(a \\partial_{t t}{a}+{\\left(\\partial_{t}{a}\\right)}^{2}\\right) {a}^{-2}\\\\[-.5ex]\n",
       "\\square{}_{t}{}_{t}{}_{y}{}^{y}& = -\\left(a \\partial_{t t}{a}+{\\left(\\partial_{t}{a}\\right)}^{2}\\right) {a}^{-2}\\\\[-.5ex]\n",
       "\\square{}_{t}{}_{t}{}_{x}{}^{x}& = -\\left(a \\partial_{t t}{a}+{\\left(\\partial_{t}{a}\\right)}^{2}\\right) {a}^{-2}\\\\[-.5ex]\n",
       "\\square{}_{t}{}_{z}{}_{z}{}^{t}& = -a \\partial_{t t}{a}-{\\left(\\partial_{t}{a}\\right)}^{2}\\\\[-.5ex]\n",
       "\\square{}_{t}{}_{y}{}_{y}{}^{t}& = -a \\partial_{t t}{a}-{\\left(\\partial_{t}{a}\\right)}^{2}\\\\[-.5ex]\n",
       "\\square{}_{t}{}_{x}{}_{x}{}^{t}& = -a \\partial_{t t}{a}-{\\left(\\partial_{t}{a}\\right)}^{2}\\\\[-.5ex]\n",
       "\\square{}_{z}{}_{z}{}_{t}{}^{t}& = a \\partial_{t t}{a}+{\\left(\\partial_{t}{a}\\right)}^{2}\\\\[-.5ex]\n",
       "\\square{}_{y}{}_{y}{}_{t}{}^{t}& = a \\partial_{t t}{a}+{\\left(\\partial_{t}{a}\\right)}^{2}\\\\[-.5ex]\n",
       "\\square{}_{x}{}_{x}{}_{t}{}^{t}& = a \\partial_{t t}{a}+{\\left(\\partial_{t}{a}\\right)}^{2}\\\\[-.5ex]\n",
       "\\end{aligned}\\right.\n",
       "$"
      ]
     },
     "execution_count": 9,
     "metadata": {},
     "output_type": "execute_result"
    }
   ],
   "source": [
    "RUEV = evaluate(RUP,metric,rhsonly=True);"
   ]
  },
  {
   "cell_type": "code",
   "execution_count": 10,
   "metadata": {},
   "outputs": [
    {
     "data": {
      "text/markdown": [
       "${}RN_{\\alpha \\beta} = g^{\\rho \\mu} RU^{\\mu}\\,_{\\alpha \\rho \\beta}$"
      ]
     },
     "execution_count": 10,
     "metadata": {},
     "output_type": "execute_result"
    },
    {
     "data": {
      "text/markdown": [
       "${}RN_{\\alpha \\beta} = \\square{}_{\\beta}{}_{\\alpha}\\left\\{\\begin{aligned}\\square{}_{z}{}_{z}& = -a \\partial_{t t}{a}-{\\left(\\partial_{t}{a}\\right)}^{2}\\\\[-.5ex]\n",
       "\\square{}_{y}{}_{y}& = -a \\partial_{t t}{a}-{\\left(\\partial_{t}{a}\\right)}^{2}\\\\[-.5ex]\n",
       "\\square{}_{x}{}_{x}& = -a \\partial_{t t}{a}-{\\left(\\partial_{t}{a}\\right)}^{2}\\\\[-.5ex]\n",
       "\\square{}_{t}{}_{t}& = -\\left(3a \\partial_{t t}{a}+3{\\left(\\partial_{t}{a}\\right)}^{2}\\right) {a}^{-4}\\\\[-.5ex]\n",
       "\\end{aligned}\\right.\n",
       "$"
      ]
     },
     "execution_count": 10,
     "metadata": {},
     "output_type": "execute_result"
    }
   ],
   "source": [
    "RCI:= RN_{\\alpha \\beta} = g^{\\rho \\mu}*RU^{\\mu}_{\\alpha \\rho \\beta};\n",
    "FUT = substitute(RCI,RUEV) \n",
    "expand(FUT)\n",
    "GUT = evaluate(FUT,metric,rhsonly=True);"
   ]
  },
  {
   "cell_type": "code",
   "execution_count": 11,
   "metadata": {},
   "outputs": [
    {
     "data": {
      "text/markdown": [
       "${}RA^{\\mu}\\,_{\\nu} = g^{\\mu \\beta} RN_{\\beta \\nu}$"
      ]
     },
     "execution_count": 11,
     "metadata": {},
     "output_type": "execute_result"
    }
   ],
   "source": [
    "RSC:= RA^{\\mu}_{\\nu} = g^{\\mu \\beta}*RN_{\\beta \\nu};"
   ]
  },
  {
   "cell_type": "code",
   "execution_count": 12,
   "metadata": {},
   "outputs": [
    {
     "data": {
      "text/markdown": [
       "${}RA^{\\mu}\\,_{\\nu} = \\square{}_{\\nu}{}^{\\mu}\\left\\{\\begin{aligned}\\square{}_{z}{}^{z}& = -\\left(a \\partial_{t t}{a}+{\\left(\\partial_{t}{a}\\right)}^{2}\\right) {a}^{-2}\\\\[-.5ex]\n",
       "\\square{}_{y}{}^{y}& = -\\left(a \\partial_{t t}{a}+{\\left(\\partial_{t}{a}\\right)}^{2}\\right) {a}^{-2}\\\\[-.5ex]\n",
       "\\square{}_{x}{}^{x}& = -\\left(a \\partial_{t t}{a}+{\\left(\\partial_{t}{a}\\right)}^{2}\\right) {a}^{-2}\\\\[-.5ex]\n",
       "\\square{}_{t}{}^{t}& = 3\\left(a \\partial_{t t}{a}+{\\left(\\partial_{t}{a}\\right)}^{2}\\right) {a}^{-4}\\\\[-.5ex]\n",
       "\\end{aligned}\\right.\n",
       "$"
      ]
     },
     "execution_count": 12,
     "metadata": {},
     "output_type": "execute_result"
    }
   ],
   "source": [
    "SUBD = substitute(RSC,GUT)\n",
    "evaluate(SUBD,metric,rhsonly=True);"
   ]
  },
  {
   "cell_type": "markdown",
   "metadata": {},
   "source": [
    "Here RSS is the Ricci scalar"
   ]
  },
  {
   "cell_type": "code",
   "execution_count": 13,
   "metadata": {},
   "outputs": [
    {
     "data": {
      "text/markdown": [
       "${}RSS = g^{\\mu \\nu} RA^{\\mu}\\,_{\\nu}$"
      ]
     },
     "execution_count": 13,
     "metadata": {},
     "output_type": "execute_result"
    },
    {
     "data": {
      "text/markdown": [
       "${}RSS = g^{\\mu \\nu} \\square{}_{\\nu}{}^{\\mu}\\left\\{\\begin{aligned}\\square{}_{z}{}^{z}& = -\\left(a \\partial_{t t}{a}+{\\left(\\partial_{t}{a}\\right)}^{2}\\right) {a}^{-2}\\\\[-.5ex]\n",
       "\\square{}_{y}{}^{y}& = -\\left(a \\partial_{t t}{a}+{\\left(\\partial_{t}{a}\\right)}^{2}\\right) {a}^{-2}\\\\[-.5ex]\n",
       "\\square{}_{x}{}^{x}& = -\\left(a \\partial_{t t}{a}+{\\left(\\partial_{t}{a}\\right)}^{2}\\right) {a}^{-2}\\\\[-.5ex]\n",
       "\\square{}_{t}{}^{t}& = 3\\left(a \\partial_{t t}{a}+{\\left(\\partial_{t}{a}\\right)}^{2}\\right) {a}^{-4}\\\\[-.5ex]\n",
       "\\end{aligned}\\right.\n",
       "$"
      ]
     },
     "execution_count": 13,
     "metadata": {},
     "output_type": "execute_result"
    },
    {
     "data": {
      "text/markdown": [
       "${}RSS = -\\left(6a \\partial_{t t}{a}+6{\\left(\\partial_{t}{a}\\right)}^{2}\\right) {a}^{-4}$"
      ]
     },
     "execution_count": 13,
     "metadata": {},
     "output_type": "execute_result"
    }
   ],
   "source": [
    "RAMN := RSS =  g^{\\mu \\nu}*RA^{\\mu}_{\\nu};\n",
    "RT= substitute(RAMN,RSC);\n",
    "RSS = evaluate(RT,metric, rhsonly=True);"
   ]
  },
  {
   "cell_type": "code",
   "execution_count": 14,
   "metadata": {},
   "outputs": [
    {
     "data": {
      "text/markdown": [
       "${}G_{\\mu \\nu} = RN_{\\mu \\nu} - \\frac{1}{4}g_{\\mu \\nu} RSS$"
      ]
     },
     "execution_count": 14,
     "metadata": {},
     "output_type": "execute_result"
    }
   ],
   "source": [
    "EINS:= G_{\\mu \\nu} = RN_{\\mu \\nu} - 1/4* g_{\\mu \\nu}*RSS;"
   ]
  },
  {
   "cell_type": "code",
   "execution_count": 15,
   "metadata": {},
   "outputs": [
    {
     "data": {
      "text/markdown": [
       "${}G_{\\mu \\nu} = \\square{}_{\\nu}{}_{\\mu}\\left\\{\\begin{aligned}\\square{}_{z}{}_{z}& = -a \\partial_{t t}{a}-{\\left(\\partial_{t}{a}\\right)}^{2}+\\frac{3}{2}\\partial_{t t}{a} {a}^{-1}+\\frac{3}{2}{\\left(\\partial_{t}{a}\\right)}^{2} {a}^{-2}\\\\[-.5ex]\n",
       "\\square{}_{y}{}_{y}& = -a \\partial_{t t}{a}-{\\left(\\partial_{t}{a}\\right)}^{2}+\\frac{3}{2}\\partial_{t t}{a} {a}^{-1}+\\frac{3}{2}{\\left(\\partial_{t}{a}\\right)}^{2} {a}^{-2}\\\\[-.5ex]\n",
       "\\square{}_{x}{}_{x}& = -a \\partial_{t t}{a}-{\\left(\\partial_{t}{a}\\right)}^{2}+\\frac{3}{2}\\partial_{t t}{a} {a}^{-1}+\\frac{3}{2}{\\left(\\partial_{t}{a}\\right)}^{2} {a}^{-2}\\\\[-.5ex]\n",
       "\\square{}_{t}{}_{t}& =  - \\frac{1}{2}\\left(9a \\partial_{t t}{a}+9{\\left(\\partial_{t}{a}\\right)}^{2}\\right) {a}^{-4}\\\\[-.5ex]\n",
       "\\end{aligned}\\right.\n",
       "$"
      ]
     },
     "execution_count": 15,
     "metadata": {},
     "output_type": "execute_result"
    }
   ],
   "source": [
    "EINSexp = substitute(EINS,GUT)\n",
    "EINSept = substitute(EINSexp,RSS)\n",
    "EINT = evaluate(EINSept,metric,rhsonly=True);"
   ]
  },
  {
   "cell_type": "markdown",
   "metadata": {},
   "source": [
    "Now also obtain the raised index version of the Tensor, because why not?"
   ]
  },
  {
   "cell_type": "code",
   "execution_count": 16,
   "metadata": {},
   "outputs": [
    {
     "data": {
      "text/markdown": [
       "${}GG^{\\mu \\nu} = g^{\\alpha \\mu} g^{\\beta \\nu} G_{\\alpha \\beta}$"
      ]
     },
     "execution_count": 16,
     "metadata": {},
     "output_type": "execute_result"
    },
    {
     "data": {
      "text/markdown": [
       "${}GG^{\\mu \\nu} = g^{\\alpha \\mu} g^{\\beta \\nu} \\square{}_{\\beta}{}_{\\alpha}\\left\\{\\begin{aligned}\\square{}_{z}{}_{z}& = -a \\partial_{t t}{a}-{\\left(\\partial_{t}{a}\\right)}^{2}+\\frac{3}{2}\\partial_{t t}{a} {a}^{-1}+\\frac{3}{2}{\\left(\\partial_{t}{a}\\right)}^{2} {a}^{-2}\\\\[-.5ex]\n",
       "\\square{}_{y}{}_{y}& = -a \\partial_{t t}{a}-{\\left(\\partial_{t}{a}\\right)}^{2}+\\frac{3}{2}\\partial_{t t}{a} {a}^{-1}+\\frac{3}{2}{\\left(\\partial_{t}{a}\\right)}^{2} {a}^{-2}\\\\[-.5ex]\n",
       "\\square{}_{x}{}_{x}& = -a \\partial_{t t}{a}-{\\left(\\partial_{t}{a}\\right)}^{2}+\\frac{3}{2}\\partial_{t t}{a} {a}^{-1}+\\frac{3}{2}{\\left(\\partial_{t}{a}\\right)}^{2} {a}^{-2}\\\\[-.5ex]\n",
       "\\square{}_{t}{}_{t}& =  - \\frac{1}{2}\\left(9a \\partial_{t t}{a}+9{\\left(\\partial_{t}{a}\\right)}^{2}\\right) {a}^{-4}\\\\[-.5ex]\n",
       "\\end{aligned}\\right.\n",
       "$"
      ]
     },
     "execution_count": 16,
     "metadata": {},
     "output_type": "execute_result"
    }
   ],
   "source": [
    "GMN:= GG^{\\mu \\nu} = g^{\\alpha \\mu }*g^{\\beta \\nu}*G_{\\alpha \\beta};\n",
    "gms= substitute(GMN,EINT);\n",
    "evaluate(gms,metric,rhsonly=True)"
   ]
  }
 ],
 "metadata": {
  "kernelspec": {
   "display_name": "Cadabra",
   "language": "python",
   "name": "cadabra2"
  },
  "language_info": {
   "file_extension": ".cdb",
   "mimetype": "text/cadabra",
   "name": "cadabra",
   "version": "2.0.0"
  }
 },
 "nbformat": 4,
 "nbformat_minor": 4
}
